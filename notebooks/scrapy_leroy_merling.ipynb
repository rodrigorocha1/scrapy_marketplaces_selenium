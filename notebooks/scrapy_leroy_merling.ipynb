{
 "cells": [
  {
   "cell_type": "code",
   "execution_count": 1,
   "metadata": {},
   "outputs": [],
   "source": [
    "from selenium import webdriver\n",
    "from selenium.webdriver.chrome.service import Service\n",
    "from webdriver_manager.chrome import ChromeDriverManager\n",
    "from selenium.webdriver.common.by import By\n",
    "from selenium.webdriver.support import expected_conditions as EC\n",
    "from selenium.webdriver.support.ui import WebDriverWait\n",
    "from time import sleep\n",
    "from datetime import datetime\n"
   ]
  },
  {
   "cell_type": "code",
   "execution_count": 2,
   "metadata": {},
   "outputs": [],
   "source": [
    "servico = Service(ChromeDriverManager().install())\n",
    "navegador = webdriver.Chrome(service=servico)\n",
    "navegador.maximize_window()"
   ]
  },
  {
   "cell_type": "code",
   "execution_count": 3,
   "metadata": {},
   "outputs": [],
   "source": [
    "navegador.get('https://www.leroymerlin.com.br/')"
   ]
  },
  {
   "cell_type": "code",
   "execution_count": 4,
   "metadata": {},
   "outputs": [],
   "source": [
    "busca_produto = navegador.find_element(\n",
    "    By.ID, '@autocomplete-quicksearch-input')\n",
    "\n",
    "busca_produto.send_keys('Churrasqueira')"
   ]
  },
  {
   "cell_type": "code",
   "execution_count": 5,
   "metadata": {},
   "outputs": [],
   "source": [
    "navegador.find_element(\n",
    "    By.XPATH, '/html/body/header/div[2]/div/div[1]/form/div/div[1]/div/div/button').click()"
   ]
  },
  {
   "cell_type": "code",
   "execution_count": 6,
   "metadata": {},
   "outputs": [
    {
     "data": {
      "text/plain": [
       "<selenium.webdriver.remote.webelement.WebElement (session=\"c8123b1967933608ac4105694546b8b4\", element=\"f.7B2E342039D84EC17B8C36FA52A17661.d.2111F2A530C271D4BDB23054F8C43825.e.66\")>"
      ]
     },
     "execution_count": 6,
     "metadata": {},
     "output_type": "execute_result"
    }
   ],
   "source": [
    "WebDriverWait(navegador, 20).until(\n",
    "    EC.presence_of_element_located(\n",
    "        (By.CSS_SELECTOR, \n",
    "        '#mobile-filter-content > div > div > div:nth-child(6) > div.flex-1.px-4.py-4 > div > div:nth-child(1) > div > input')))"
   ]
  },
  {
   "cell_type": "markdown",
   "metadata": {},
   "source": [
    "# Filtro de preço"
   ]
  },
  {
   "cell_type": "markdown",
   "metadata": {},
   "source": [
    "# Colocar alguma espera"
   ]
  },
  {
   "cell_type": "code",
   "execution_count": 7,
   "metadata": {},
   "outputs": [],
   "source": [
    "preco_minimo = navegador.find_element(\n",
    "    By.CSS_SELECTOR, '#mobile-filter-content > div > div > div:nth-child(6) > div.flex-1.px-4.py-4 > div > div:nth-child(1) > div > input')\n",
    "\n",
    "preco_minimo.send_keys(100)"
   ]
  },
  {
   "cell_type": "code",
   "execution_count": 8,
   "metadata": {},
   "outputs": [],
   "source": [
    "preco_maximo = navegador.find_element(\n",
    "    By.XPATH, '//*[@id=\"mobile-filter-content\"]/div/div/div[6]/div[2]/div/div[2]/div/input'\n",
    ")\n",
    "preco_maximo.send_keys(150)"
   ]
  },
  {
   "cell_type": "code",
   "execution_count": 9,
   "metadata": {},
   "outputs": [],
   "source": [
    "navegador.find_element(\n",
    "    By.XPATH, '//*[@id=\"mobile-filter-content\"]/div/div/div[6]/div[2]/div/button').click()"
   ]
  },
  {
   "cell_type": "markdown",
   "metadata": {},
   "source": [
    "# Lista de produtos"
   ]
  },
  {
   "cell_type": "markdown",
   "metadata": {},
   "source": [
    "- Nome do produto\n",
    "- Nome do fabricante\n",
    "- Preço\n",
    "- Informações extras disponíveis do produto, que podem variar por e-commerce.\n",
    "- Data de coleta\n",
    "- URL do produto\n",
    "- URL da imagem do produto"
   ]
  },
  {
   "cell_type": "code",
   "execution_count": 13,
   "metadata": {},
   "outputs": [
    {
     "data": {
      "text/plain": [
       "<selenium.webdriver.remote.webelement.WebElement (session=\"c8123b1967933608ac4105694546b8b4\", element=\"f.7B2E342039D84EC17B8C36FA52A17661.d.2111F2A530C271D4BDB23054F8C43825.e.96\")>"
      ]
     },
     "execution_count": 13,
     "metadata": {},
     "output_type": "execute_result"
    }
   ],
   "source": [
    "WebDriverWait(navegador, 15).until(\n",
    "    EC.presence_of_element_located(\n",
    "        (By.CLASS_NAME,\n",
    "         'new-product-thumb')))"
   ]
  },
  {
   "cell_type": "code",
   "execution_count": 11,
   "metadata": {},
   "outputs": [],
   "source": []
  },
  {
   "cell_type": "code",
   "execution_count": 12,
   "metadata": {},
   "outputs": [
    {
     "data": {
      "text/plain": [
       "(37, list)"
      ]
     },
     "execution_count": 12,
     "metadata": {},
     "output_type": "execute_result"
    }
   ],
   "source": []
  },
  {
   "cell_type": "code",
   "execution_count": 14,
   "metadata": {},
   "outputs": [],
   "source": [
    "for i in range(1, 60):\n",
    "    navegador.execute_script(f'window.scroll(1, {i * 60})')"
   ]
  },
  {
   "cell_type": "code",
   "execution_count": 15,
   "metadata": {},
   "outputs": [
    {
     "data": {
      "text/plain": [
       "(37, list)"
      ]
     },
     "execution_count": 15,
     "metadata": {},
     "output_type": "execute_result"
    }
   ],
   "source": [
    "lista_produtos = navegador.find_elements(By.CLASS_NAME,  'new-product-thumb')\n",
    "len(lista_produtos), type(lista_produtos)"
   ]
  },
  {
   "cell_type": "code",
   "execution_count": null,
   "metadata": {},
   "outputs": [],
   "source": []
  },
  {
   "cell_type": "code",
   "execution_count": 16,
   "metadata": {},
   "outputs": [
    {
     "name": "stdout",
     "output_type": "stream",
     "text": [
      "Churrasqueira Portátil a Carvão 35x25cm Compacta Importado\n",
      "Churrasqueira De Inox Portátil A Carvão - Leve E Resistente\n",
      "Churrasqueira À Carvão Zincada 20 Litros Com Grelha - Volpato\n",
      "Churrasqueira Carvão P/ Apartamento Bafo Pzf10\n",
      "Churrasqueira Elétrica Cadence Short Grill - 127v\n",
      "Churrasqueira Britânia Gourmet Bcg1 1200w 127v\n",
      "Churrasqueira Elétrica Elgin 2000w Preta – 220 Volts\n",
      "Churrasqueira Praia Campo Com Pé Aço 2 Espeto Ab 75x30x28cm\n",
      "Churrasqueira Elétrica Tok Grill Light Il 127 Volts Prateada\n",
      "Churrasqueira Bafo A Carvão Portátil Com Grelha Pzf7\n",
      "Churrasqueira De Inox Dobrável - Apto Pesca Camping Praia\n",
      "Churrasqueira Espetinho À Carvão Zincada - Volpato\n",
      "Churrasqueira Elétrica Tok Grill Light Il 220 Volts Prateada\n",
      "Churrasqueira Elétrica Ch2-01 Termostato Agratto\n",
      "Churrasqueira Britânia Gourmet Bcg1 1200w 220v\n",
      "Churrasqueira Elétrica Portátil Com Grelha Super Prática 127 Volts\n",
      "Churrasqueira Portátil Zincada A Bafo Pesca E Camping Pzf1\n",
      "Churrasqueira Elétrica Cadence Short Grill - 220v\n",
      "Churrasqueira Elétrica Fulkan 220v\n",
      "Churrasqueira Cariocão Aço Galvanizado Grelha Moeda Com Alças Madeira - Gudim - Cinza\n",
      "Churrasqueira Elétrica Fulkan 127v\n",
      "Churrasqueira Mini Bafinho Aço Carbono E Grelha 30x29x23cm\n",
      "Churrasqueira Com Tampa De Vidro Multiflon Versatil 28cm\n",
      "Churrasqueira A Bafo Pequena Portatil Carvão Com Grelha\n",
      "Churrasqueira Eletrica Metalrio Super Grill 220v\n",
      "Churrasqueira Fogareiro A Álcool Chapa Ferro Multi P/ Mesa\n",
      "Churrasqueira Elétrica Multi 127v Com Controle De Temperatura Inox 1800w Preto - Go131\n",
      "Churrasqueira Móvel Portátil Zincada A Bafo Pzf2\n",
      "Churrasqueira De Fogão P/ Boca De Fogão A Gás Com Inmetro\n",
      "Churrasqueira Portátil Pinhal\n",
      "Churrasqueira De Fogão Multi Uso Diet Assa No Vapor 2mm\n",
      "Churrasqueira À Carvão Baú Zincada 40x26x35cm - Volpato\n",
      "Churrasqueira Pequena Portátil A Carvão Camping Pesca Praia Pzf0\n",
      "Churrasqueira Prática Chapa De Aço Carbono 40x29cm\n",
      "Churrasqueira Bafo A Carvão Portátil Com Grelha Pzf6\n",
      "Churrasqueira Prática Chapa De Aço Carbono 50x29cm\n",
      "Churrasqueira a Bafo Carvão 108x112cm Centaurus Beta Naterial\n"
     ]
    }
   ],
   "source": [
    "nomes = navegador.find_elements(By.CLASS_NAME, 'css-1eaoahv-ellipsis')\n",
    "for nome in nomes:\n",
    "    print(nome.text)"
   ]
  },
  {
   "cell_type": "markdown",
   "metadata": {},
   "source": [
    "- Esperar até a url de imagem carregar"
   ]
  },
  {
   "cell_type": "code",
   "execution_count": 110,
   "metadata": {},
   "outputs": [
    {
     "name": "stdout",
     "output_type": "stream",
     "text": [
      "Churrasqueira Portátil a Carvão 35x25cm Compacta Importado\n",
      "R$ 149,90\n",
      "89975543\n",
      "https://cdn.leroymerlin.com.br/products/churrasqueira_a_carvao_compacta_portatil_89975543_00014_300x300.jpg\n",
      "https://www.leroymerlin.com.br/churrasqueira-portatil-a-carvao-35x25cm-compacta-importado_89975543\n",
      "========================================================================\n",
      "Churrasqueira De Inox Portátil A Carvão - Leve E Resistente\n",
      "R$ 128,90\n",
      "1568282611\n",
      "https://cdn.leroymerlin.com.br/products/churrasqueira_de_inox_portatil_a_carvao_leve_e_resistente_1568282611_fa11_300x300.jpg\n",
      "https://www.leroymerlin.com.br/churrasqueira-de-inox-portatil-a-carvao-leve-e-resistente_1568282611\n",
      "========================================================================\n",
      "Churrasqueira À Carvão Zincada 20 Litros Com Grelha - Volpato\n",
      "R$ 130,54\n",
      "1568442781\n",
      "https://cdn.leroymerlin.com.br/products/churrasqueira_a_carvao_zincada_20_litros_com_grelha_volpato_1568442781_c243_300x300.jpg\n",
      "https://www.leroymerlin.com.br/churrasqueira-a-carvao-zincada-20-litros-com-grelha-volpato_1568442781\n",
      "========================================================================\n",
      "Churrasqueira Carvão P/ Apartamento Bafo Pzf10\n",
      "R$ 109,22\n",
      "1570832791\n",
      "https://cdn.leroymerlin.com.br/products/churrasqueira_carvao_p__apartamento_bafo_pzf10_1570832791_aa77_300x300.jpg\n",
      "https://www.leroymerlin.com.br/churrasqueira-carvao-p--apartamento-bafo-pzf10_1570832791\n",
      "========================================================================\n",
      "Churrasqueira Elétrica Cadence Short Grill - 127v\n",
      "R$ 105,30\n",
      "1567464744\n",
      "https://cdn.leroymerlin.com.br/products/churrasqueira_eletrica_cadence_short_grill_127v_1567464744_0514_300x300.jpg\n",
      "https://www.leroymerlin.com.br/churrasqueira-eletrica-cadence-short-grill-127v_1567464744\n",
      "========================================================================\n",
      "Churrasqueira Britânia Gourmet Bcg1 1200w 127v\n",
      "R$ 144,90\n",
      "1566773939\n",
      "https://cdn.leroymerlin.com.br/products/churrasqueira__britania_gourmet_bcg1_1200w_127v_1566773939_2718_300x300.jpg\n",
      "https://www.leroymerlin.com.br/churrasqueira--britania-gourmet-bcg1-1200w-127v_1566773939\n",
      "========================================================================\n",
      "Churrasqueira Elétrica Elgin 2000w Preta – 220 Volts\n",
      "R$ 124,20\n",
      "1567830775\n",
      "https://cdn.leroymerlin.com.br/products/churrasqueira_eletrica_elgin_2000w_preta___220_volts_1567830775_5d8a_300x300.png\n",
      "https://www.leroymerlin.com.br/churrasqueira-eletrica-elgin-2000w-preta---220-volts_1567830775\n",
      "========================================================================\n",
      "Churrasqueira Praia Campo Com Pé Aço 2 Espeto Ab 75x30x28cm\n",
      "R$ 142,77\n",
      "1570905700\n",
      "https://cdn.leroymerlin.com.br/products/churrasqueira_praia_campo_com_pe_aco_2_espeto_ab_75x30x28cm_1570905700_2ace_300x300.jpg\n",
      "https://www.leroymerlin.com.br/churrasqueira-praia-campo-com-pe-aco-2-espeto-ab-75x30x28cm_1570905700\n",
      "========================================================================\n",
      "Churrasqueira Elétrica Tok Grill Light Il 127 Volts Prateada\n",
      "R$ 129,90\n",
      "1571800491\n",
      "https://cdn.leroymerlin.com.br/products/churrasqueira_eletrica_tok_grill_light_il_127_volts_prateada_1571800491_98eb_300x300.png\n",
      "https://www.leroymerlin.com.br/churrasqueira-eletrica-tok-grill-light-il-127-volts-prateada_1571800491\n",
      "========================================================================\n",
      "Churrasqueira Bafo A Carvão Portátil Com Grelha Pzf7\n",
      "R$ 109,60\n",
      "1570832788\n",
      "https://cdn.leroymerlin.com.br/products/churrasqueira_bafo_a_carvao_portatil_com_grelha_pzf7_1570832788_ecc8_300x300.jpg\n",
      "https://www.leroymerlin.com.br/churrasqueira-bafo-a-carvao-portatil-com-grelha-pzf7_1570832788\n",
      "========================================================================\n",
      "Churrasqueira De Inox Dobrável - Apto Pesca Camping Praia\n",
      "R$ 132,50\n",
      "1568282605\n",
      "https://cdn.leroymerlin.com.br/products/churrasqueira_de_inox_dobravel_apto_pesca_camping_praia_1568282605_dcfb_300x300.jpg\n",
      "https://www.leroymerlin.com.br/churrasqueira-de-inox-dobravel-apto-pesca-camping-praia_1568282605\n",
      "========================================================================\n",
      "Churrasqueira Espetinho À Carvão Zincada - Volpato\n",
      "R$ 143,18\n",
      "1569706273\n",
      "https://cdn.leroymerlin.com.br/products/churrasqueira_espetinho_a_carvao_zincada_volpato_1569706273_bfff_300x300.jpg\n",
      "https://www.leroymerlin.com.br/churrasqueira-espetinho-a-carvao-zincada-volpato_1569706273\n",
      "========================================================================\n",
      "Churrasqueira Elétrica Tok Grill Light Il 220 Volts Prateada\n",
      "R$ 129,90\n",
      "1571809578\n",
      "https://cdn.leroymerlin.com.br/products/churrasqueira_eletrica_tok_grill_light_il_220_volts_prateada_1571809578_b489_300x300.png\n",
      "https://www.leroymerlin.com.br/churrasqueira-eletrica-tok-grill-light-il-220-volts-prateada_1571809578\n",
      "========================================================================\n",
      "Churrasqueira Elétrica Ch2-01 Termostato Agratto\n",
      "R$ 139,90\n",
      "1567044241\n",
      "https://cdn.leroymerlin.com.br/products/churrasqueira_eletrica_ch2_01_termostato_agratto_1567044241_a94c_300x300.jpg\n",
      "https://www.leroymerlin.com.br/churrasqueira-eletrica-ch2-01-termostato-agratto_1567044241\n",
      "========================================================================\n",
      "Churrasqueira Britânia Gourmet Bcg1 1200w 220v\n",
      "R$ 144,90\n",
      "1566773954\n",
      "https://cdn.leroymerlin.com.br/products/churrasqueira__britania_gourmet_bcg1_1200w_220v_1566773954_d0b4_300x300.jpg\n",
      "https://www.leroymerlin.com.br/churrasqueira--britania-gourmet-bcg1-1200w-220v_1566773954\n",
      "========================================================================\n",
      "Churrasqueira Elétrica Portátil Com Grelha Super Prática 127 Volts\n",
      "R$ 129,90\n",
      "1570922904\n",
      "https://cdn.leroymerlin.com.br/products/churrasqueira_eletrica_portatil_com_grelha_super_pratica_127_1570922904_8520_300x300.png\n",
      "https://www.leroymerlin.com.br/churrasqueira-eletrica-portatil-com-grelha-super-pratica-127-volts_1570922904\n",
      "========================================================================\n",
      "Churrasqueira Portátil Zincada A Bafo Pesca E Camping Pzf1\n",
      "R$ 110,60\n",
      "1570751265\n",
      "https://cdn.leroymerlin.com.br/products/churrasqueira_portatil_zincada_a_bafo_pesca_e_camping_pzf1_1570751265_f9f7_300x300.jpg\n",
      "https://www.leroymerlin.com.br/churrasqueira-portatil-zincada-a-bafo-pesca-e-camping-pzf1_1570751265\n",
      "========================================================================\n",
      "Churrasqueira Elétrica Cadence Short Grill - 220v\n",
      "R$ 129,90\n",
      "1567464739\n",
      "https://cdn.leroymerlin.com.br/products/churrasqueira_eletrica_cadence_short_grill_220v_1567464739_f6a6_300x300.jpg\n",
      "https://www.leroymerlin.com.br/churrasqueira-eletrica-cadence-short-grill-220v_1567464739\n",
      "========================================================================\n",
      "Churrasqueira Elétrica Fulkan 220v\n",
      "R$ 139,00\n",
      "1572068886\n",
      "https://cdn.leroymerlin.com.br/products/churrasqueira_eletrica_fulkan_220v_1572068886_7bc8_300x300.jpg\n",
      "https://www.leroymerlin.com.br/churrasqueira-eletrica-fulkan-220v_1572068886\n",
      "========================================================================\n",
      "Churrasqueira Cariocão Aço Galvanizado Grelha Moeda Com Alças Madeira - Gudim - Cinza\n",
      "R$ 142,71\n",
      "1571971846\n",
      "https://cdn.leroymerlin.com.br/products/churrasqueira_cariocao_aco_galvanizado_grelha_moeda_com_alcas_1571971846_e9f8_300x300.png\n",
      "https://www.leroymerlin.com.br/churrasqueira-cariocao-aco-galvanizado-grelha-moeda-com-alcas-madeira-gudim-cinza_1571971846\n",
      "========================================================================\n",
      "Churrasqueira Elétrica Fulkan 127v\n",
      "R$ 139,00\n",
      "1571172090\n",
      "https://cdn.leroymerlin.com.br/products/churrasqueira_eletrica_fulkan_127v_1571172090_f4b0_300x300.jpg\n",
      "https://www.leroymerlin.com.br/churrasqueira-eletrica-fulkan-127v_1571172090\n",
      "========================================================================\n",
      "Churrasqueira Mini Bafinho Aço Carbono E Grelha 30x29x23cm\n",
      "R$ 138,08\n",
      "1570905692\n",
      "https://cdn.leroymerlin.com.br/products/churrasqueira_mini_bafinho_aco_carbono_e_grelha_30x29x23cm_1570905692_743f_300x300.jpg\n",
      "https://www.leroymerlin.com.br/churrasqueira-mini-bafinho-aco-carbono-e-grelha-30x29x23cm_1570905692\n",
      "========================================================================\n",
      "Churrasqueira Com Tampa De Vidro Multiflon Versatil 28cm\n",
      "R$ 138,45\n",
      "1567668233\n",
      "https://cdn.leroymerlin.com.br/products/churrasqueira_com_tampa_de_vidro_multiflon_versatil_28cm_1567668233_eb41_300x300.jpg\n",
      "https://www.leroymerlin.com.br/churrasqueira-com-tampa-de-vidro-multiflon-versatil-28cm_1567668233\n",
      "========================================================================\n",
      "Churrasqueira A Bafo Pequena Portatil Carvão Com Grelha\n",
      "R$ 119,00\n",
      "1571981173\n",
      "https://cdn.leroymerlin.com.br/products/churrasqueira_a_bafo_pequena_portatil_carvao_com_grelha_1571981173_2b1f_300x300.png\n",
      "https://www.leroymerlin.com.br/churrasqueira-a-bafo-pequena-portatil-carvao-com-grelha_1571981173\n",
      "========================================================================\n",
      "Churrasqueira Eletrica Metalrio Super Grill 220v\n",
      "R$ 142,90\n",
      "1567614068\n",
      "https://cdn.leroymerlin.com.br/products/churrasqueira_eletrica_metalrio_super_grill_220v_1567614068_8180_300x300.png\n",
      "https://www.leroymerlin.com.br/churrasqueira-eletrica-metalrio-super-grill-220v_1567614068\n",
      "========================================================================\n",
      "Churrasqueira Fogareiro A Álcool Chapa Ferro Multi P/ Mesa\n",
      "R$ 147,90\n",
      "1571602004\n",
      "https://cdn.leroymerlin.com.br/products/churrasqueira_fogareiro_a_alcool_chapa_ferro_multi_p__mesa_1571602004_e541_300x300.jpg\n",
      "https://www.leroymerlin.com.br/churrasqueira-fogareiro-a-alcool-chapa-ferro-multi-p--mesa_1571602004\n",
      "========================================================================\n",
      "Churrasqueira Elétrica Multi 127v Com Controle De Temperatura Inox 1800w Preto - Go131\n",
      "R$ 135,90\n",
      "1571804973\n",
      "https://cdn.leroymerlin.com.br/products/churrasqueira_eletrica_multi_127v_com_controle_de_temperatura_1571804973_a177_300x300.jpg\n",
      "https://www.leroymerlin.com.br/churrasqueira-eletrica-multi-127v-com-controle-de-temperatura-inox-1800w-preto-go131_1571804973\n",
      "========================================================================\n",
      "Churrasqueira Móvel Portátil Zincada A Bafo Pzf2\n",
      "R$ 110,50\n",
      "1570832792\n",
      "https://cdn.leroymerlin.com.br/products/churrasqueira_movel_portatil_zincada_a_bafo_pzf2_1570832792_c66d_300x300.jpg\n",
      "https://www.leroymerlin.com.br/churrasqueira-movel-portatil-zincada-a-bafo-pzf2_1570832792\n",
      "========================================================================\n",
      "Churrasqueira De Fogão P/ Boca De Fogão A Gás Com Inmetro\n",
      "R$ 135,80\n",
      "1571134495\n",
      "https://cdn.leroymerlin.com.br/products/churrasqueira_de_fogao_p__boca_de_fogao_a_gas_com_inmetro_1571134495_1934_300x300.jpg\n",
      "https://www.leroymerlin.com.br/churrasqueira-de-fogao-p--boca-de-fogao-a-gas-com-inmetro_1571134495\n",
      "========================================================================\n",
      "Churrasqueira Portátil Pinhal\n",
      "R$ 133,45\n",
      "1570890380\n",
      "https://cdn.leroymerlin.com.br/products/churrasqueira_portatil_pinhal_1570890380_2ee8_300x300.png\n",
      "https://www.leroymerlin.com.br/churrasqueira-portatil-pinhal_1570890380\n",
      "========================================================================\n",
      "Churrasqueira De Fogão Multi Uso Diet Assa No Vapor 2mm\n",
      "R$ 142,19\n",
      "1567719398\n",
      "https://cdn.leroymerlin.com.br/products/churrasqueira_de_fogao_multi_uso_diet_assa_no_vapor_2mm_1567719398_fd83_300x300.jpg\n",
      "https://www.leroymerlin.com.br/churrasqueira-de-fogao-multi-uso-diet-assa-no-vapor-2mm_1567719398\n",
      "========================================================================\n",
      "Churrasqueira À Carvão Baú Zincada 40x26x35cm - Volpato\n",
      "R$ 130,54\n",
      "1570956634\n",
      "https://cdn.leroymerlin.com.br/products/churrasqueira_a_carvao_bau_zincada_40x26x35cm_volpato_1570956634_b6a5_300x300.jpg\n",
      "https://www.leroymerlin.com.br/churrasqueira-a-carvao-bau-zincada-40x26x35cm-volpato_1570956634\n",
      "========================================================================\n",
      "Churrasqueira Pequena Portátil A Carvão Camping Pesca Praia Pzf0\n",
      "R$ 110,70\n",
      "1570832784\n",
      "https://cdn.leroymerlin.com.br/products/churrasqueira_pequena_portatil_a_carvao_camping_pesca_praia_p_1570832784_78f1_300x300.jpg\n",
      "https://www.leroymerlin.com.br/churrasqueira-pequena-portatil-a-carvao-camping-pesca-praia-pzf0_1570832784\n",
      "========================================================================\n",
      "Churrasqueira Prática Chapa De Aço Carbono 40x29cm\n",
      "R$ 122,65\n",
      "1567719468\n",
      "https://cdn.leroymerlin.com.br/products/churrasqueira_pratica_chapa_de_aco_carbono_40x29cm_1567719468_8082_300x300.jpg\n",
      "https://www.leroymerlin.com.br/churrasqueira-pratica-chapa-de-aco-carbono-40x29cm_1567719468\n",
      "========================================================================\n",
      "Churrasqueira Bafo A Carvão Portátil Com Grelha Pzf6\n",
      "R$ 109,70\n",
      "1570905660\n",
      "https://cdn.leroymerlin.com.br/products/churrasqueira_bafo_a_carvao_portatil_com_grelha_pzf6_1570905660_7281_300x300.jpg\n",
      "https://www.leroymerlin.com.br/churrasqueira-bafo-a-carvao-portatil-com-grelha-pzf6_1570905660\n",
      "========================================================================\n",
      "Churrasqueira Prática Chapa De Aço Carbono 50x29cm\n",
      "R$ 134,60\n",
      "1567719421\n",
      "https://cdn.leroymerlin.com.br/products/churrasqueira_pratica_chapa_de_aco_carbono_50x29cm_1567719421_657e_300x300.jpg\n",
      "https://www.leroymerlin.com.br/churrasqueira-pratica-chapa-de-aco-carbono-50x29cm_1567719421\n",
      "========================================================================\n"
     ]
    },
    {
     "ename": "StaleElementReferenceException",
     "evalue": "Message: stale element reference: stale element not found in the current frame\n  (Session info: chrome=127.0.6533.119); For documentation on this error, please visit: https://www.selenium.dev/documentation/webdriver/troubleshooting/errors#stale-element-reference-exception\nStacktrace:\n#0 0x57a43ba8f6ca <unknown>\n#1 0x57a43b760600 <unknown>\n#2 0x57a43b76648f <unknown>\n#3 0x57a43b7680b5 <unknown>\n#4 0x57a43b76813c <unknown>\n#5 0x57a43b7af87c <unknown>\n#6 0x57a43b7afeb1 <unknown>\n#7 0x57a43b7a46a6 <unknown>\n#8 0x57a43b7d28cd <unknown>\n#9 0x57a43b7a4599 <unknown>\n#10 0x57a43b7d2a6e <unknown>\n#11 0x57a43b7f104a <unknown>\n#12 0x57a43b7d2643 <unknown>\n#13 0x57a43b7a2d31 <unknown>\n#14 0x57a43b7a379e <unknown>\n#15 0x57a43ba5725b <unknown>\n#16 0x57a43ba5b1f2 <unknown>\n#17 0x57a43ba44615 <unknown>\n#18 0x57a43ba5bd82 <unknown>\n#19 0x57a43ba2925f <unknown>\n#20 0x57a43ba7ee68 <unknown>\n#21 0x57a43ba7f040 <unknown>\n#22 0x57a43ba8e49c <unknown>\n#23 0x77ce0569ca94 <unknown>\n#24 0x77ce05729c3c <unknown>\n",
     "output_type": "error",
     "traceback": [
      "\u001b[0;31m---------------------------------------------------------------------------\u001b[0m",
      "\u001b[0;31mStaleElementReferenceException\u001b[0m            Traceback (most recent call last)",
      "Cell \u001b[0;32mIn[110], line 2\u001b[0m\n\u001b[1;32m      1\u001b[0m \u001b[38;5;28;01mfor\u001b[39;00m chave, produto \u001b[38;5;129;01min\u001b[39;00m \u001b[38;5;28menumerate\u001b[39m(lista_produtos):\n\u001b[0;32m----> 2\u001b[0m     nome \u001b[38;5;241m=\u001b[39m \u001b[43mproduto\u001b[49m\u001b[38;5;241;43m.\u001b[39;49m\u001b[43mfind_element\u001b[49m\u001b[43m(\u001b[49m\u001b[43mBy\u001b[49m\u001b[38;5;241;43m.\u001b[39;49m\u001b[43mCLASS_NAME\u001b[49m\u001b[43m,\u001b[49m\u001b[43m \u001b[49m\u001b[38;5;124;43m'\u001b[39;49m\u001b[38;5;124;43mcss-1eaoahv-ellipsis\u001b[39;49m\u001b[38;5;124;43m'\u001b[39;49m\u001b[43m)\u001b[49m\u001b[38;5;241m.\u001b[39mtext\n\u001b[1;32m      3\u001b[0m     \u001b[38;5;28mprint\u001b[39m(nome)\n\u001b[1;32m      4\u001b[0m     codigo \u001b[38;5;241m=\u001b[39m produto\u001b[38;5;241m.\u001b[39mfind_element(\n\u001b[1;32m      5\u001b[0m         By\u001b[38;5;241m.\u001b[39mCLASS_NAME, \u001b[38;5;124m'\u001b[39m\u001b[38;5;124mcss-19qfvzb-new-product-thumb__product-code\u001b[39m\u001b[38;5;124m'\u001b[39m)\u001b[38;5;241m.\u001b[39mtext\n",
      "File \u001b[0;32m~/Documentos/projetos/scrapy_marketplaces_selenium/venv/lib/python3.10/site-packages/selenium/webdriver/remote/webelement.py:417\u001b[0m, in \u001b[0;36mWebElement.find_element\u001b[0;34m(self, by, value)\u001b[0m\n\u001b[1;32m    414\u001b[0m     by \u001b[38;5;241m=\u001b[39m By\u001b[38;5;241m.\u001b[39mCSS_SELECTOR\n\u001b[1;32m    415\u001b[0m     value \u001b[38;5;241m=\u001b[39m \u001b[38;5;124mf\u001b[39m\u001b[38;5;124m'\u001b[39m\u001b[38;5;124m[name=\u001b[39m\u001b[38;5;124m\"\u001b[39m\u001b[38;5;132;01m{\u001b[39;00mvalue\u001b[38;5;132;01m}\u001b[39;00m\u001b[38;5;124m\"\u001b[39m\u001b[38;5;124m]\u001b[39m\u001b[38;5;124m'\u001b[39m\n\u001b[0;32m--> 417\u001b[0m \u001b[38;5;28;01mreturn\u001b[39;00m \u001b[38;5;28;43mself\u001b[39;49m\u001b[38;5;241;43m.\u001b[39;49m\u001b[43m_execute\u001b[49m\u001b[43m(\u001b[49m\u001b[43mCommand\u001b[49m\u001b[38;5;241;43m.\u001b[39;49m\u001b[43mFIND_CHILD_ELEMENT\u001b[49m\u001b[43m,\u001b[49m\u001b[43m \u001b[49m\u001b[43m{\u001b[49m\u001b[38;5;124;43m\"\u001b[39;49m\u001b[38;5;124;43musing\u001b[39;49m\u001b[38;5;124;43m\"\u001b[39;49m\u001b[43m:\u001b[49m\u001b[43m \u001b[49m\u001b[43mby\u001b[49m\u001b[43m,\u001b[49m\u001b[43m \u001b[49m\u001b[38;5;124;43m\"\u001b[39;49m\u001b[38;5;124;43mvalue\u001b[39;49m\u001b[38;5;124;43m\"\u001b[39;49m\u001b[43m:\u001b[49m\u001b[43m \u001b[49m\u001b[43mvalue\u001b[49m\u001b[43m}\u001b[49m\u001b[43m)\u001b[49m[\u001b[38;5;124m\"\u001b[39m\u001b[38;5;124mvalue\u001b[39m\u001b[38;5;124m\"\u001b[39m]\n",
      "File \u001b[0;32m~/Documentos/projetos/scrapy_marketplaces_selenium/venv/lib/python3.10/site-packages/selenium/webdriver/remote/webelement.py:395\u001b[0m, in \u001b[0;36mWebElement._execute\u001b[0;34m(self, command, params)\u001b[0m\n\u001b[1;32m    393\u001b[0m     params \u001b[38;5;241m=\u001b[39m {}\n\u001b[1;32m    394\u001b[0m params[\u001b[38;5;124m\"\u001b[39m\u001b[38;5;124mid\u001b[39m\u001b[38;5;124m\"\u001b[39m] \u001b[38;5;241m=\u001b[39m \u001b[38;5;28mself\u001b[39m\u001b[38;5;241m.\u001b[39m_id\n\u001b[0;32m--> 395\u001b[0m \u001b[38;5;28;01mreturn\u001b[39;00m \u001b[38;5;28;43mself\u001b[39;49m\u001b[38;5;241;43m.\u001b[39;49m\u001b[43m_parent\u001b[49m\u001b[38;5;241;43m.\u001b[39;49m\u001b[43mexecute\u001b[49m\u001b[43m(\u001b[49m\u001b[43mcommand\u001b[49m\u001b[43m,\u001b[49m\u001b[43m \u001b[49m\u001b[43mparams\u001b[49m\u001b[43m)\u001b[49m\n",
      "File \u001b[0;32m~/Documentos/projetos/scrapy_marketplaces_selenium/venv/lib/python3.10/site-packages/selenium/webdriver/remote/webdriver.py:354\u001b[0m, in \u001b[0;36mWebDriver.execute\u001b[0;34m(self, driver_command, params)\u001b[0m\n\u001b[1;32m    352\u001b[0m response \u001b[38;5;241m=\u001b[39m \u001b[38;5;28mself\u001b[39m\u001b[38;5;241m.\u001b[39mcommand_executor\u001b[38;5;241m.\u001b[39mexecute(driver_command, params)\n\u001b[1;32m    353\u001b[0m \u001b[38;5;28;01mif\u001b[39;00m response:\n\u001b[0;32m--> 354\u001b[0m     \u001b[38;5;28;43mself\u001b[39;49m\u001b[38;5;241;43m.\u001b[39;49m\u001b[43merror_handler\u001b[49m\u001b[38;5;241;43m.\u001b[39;49m\u001b[43mcheck_response\u001b[49m\u001b[43m(\u001b[49m\u001b[43mresponse\u001b[49m\u001b[43m)\u001b[49m\n\u001b[1;32m    355\u001b[0m     response[\u001b[38;5;124m\"\u001b[39m\u001b[38;5;124mvalue\u001b[39m\u001b[38;5;124m\"\u001b[39m] \u001b[38;5;241m=\u001b[39m \u001b[38;5;28mself\u001b[39m\u001b[38;5;241m.\u001b[39m_unwrap_value(response\u001b[38;5;241m.\u001b[39mget(\u001b[38;5;124m\"\u001b[39m\u001b[38;5;124mvalue\u001b[39m\u001b[38;5;124m\"\u001b[39m, \u001b[38;5;28;01mNone\u001b[39;00m))\n\u001b[1;32m    356\u001b[0m     \u001b[38;5;28;01mreturn\u001b[39;00m response\n",
      "File \u001b[0;32m~/Documentos/projetos/scrapy_marketplaces_selenium/venv/lib/python3.10/site-packages/selenium/webdriver/remote/errorhandler.py:229\u001b[0m, in \u001b[0;36mErrorHandler.check_response\u001b[0;34m(self, response)\u001b[0m\n\u001b[1;32m    227\u001b[0m         alert_text \u001b[38;5;241m=\u001b[39m value[\u001b[38;5;124m\"\u001b[39m\u001b[38;5;124malert\u001b[39m\u001b[38;5;124m\"\u001b[39m]\u001b[38;5;241m.\u001b[39mget(\u001b[38;5;124m\"\u001b[39m\u001b[38;5;124mtext\u001b[39m\u001b[38;5;124m\"\u001b[39m)\n\u001b[1;32m    228\u001b[0m     \u001b[38;5;28;01mraise\u001b[39;00m exception_class(message, screen, stacktrace, alert_text)  \u001b[38;5;66;03m# type: ignore[call-arg]  # mypy is not smart enough here\u001b[39;00m\n\u001b[0;32m--> 229\u001b[0m \u001b[38;5;28;01mraise\u001b[39;00m exception_class(message, screen, stacktrace)\n",
      "\u001b[0;31mStaleElementReferenceException\u001b[0m: Message: stale element reference: stale element not found in the current frame\n  (Session info: chrome=127.0.6533.119); For documentation on this error, please visit: https://www.selenium.dev/documentation/webdriver/troubleshooting/errors#stale-element-reference-exception\nStacktrace:\n#0 0x57a43ba8f6ca <unknown>\n#1 0x57a43b760600 <unknown>\n#2 0x57a43b76648f <unknown>\n#3 0x57a43b7680b5 <unknown>\n#4 0x57a43b76813c <unknown>\n#5 0x57a43b7af87c <unknown>\n#6 0x57a43b7afeb1 <unknown>\n#7 0x57a43b7a46a6 <unknown>\n#8 0x57a43b7d28cd <unknown>\n#9 0x57a43b7a4599 <unknown>\n#10 0x57a43b7d2a6e <unknown>\n#11 0x57a43b7f104a <unknown>\n#12 0x57a43b7d2643 <unknown>\n#13 0x57a43b7a2d31 <unknown>\n#14 0x57a43b7a379e <unknown>\n#15 0x57a43ba5725b <unknown>\n#16 0x57a43ba5b1f2 <unknown>\n#17 0x57a43ba44615 <unknown>\n#18 0x57a43ba5bd82 <unknown>\n#19 0x57a43ba2925f <unknown>\n#20 0x57a43ba7ee68 <unknown>\n#21 0x57a43ba7f040 <unknown>\n#22 0x57a43ba8e49c <unknown>\n#23 0x77ce0569ca94 <unknown>\n#24 0x77ce05729c3c <unknown>\n"
     ]
    }
   ],
   "source": [
    "\n",
    "for chave, produto in enumerate(lista_produtos):\n",
    "    nome = produto.find_element(By.CLASS_NAME, 'css-1eaoahv-ellipsis').text\n",
    "    print(nome)\n",
    "    codigo = produto.find_element(\n",
    "        By.CLASS_NAME, 'css-19qfvzb-new-product-thumb__product-code').text\n",
    "    preco = produto.find_element(By.CLASS_NAME, 'css-m39r81-price-tag__price').text\n",
    "    print(preco)\n",
    "    print(codigo.replace('Cód. ', ''))\n",
    "    url_imagem = produto.find_element(\n",
    "        By.CLASS_NAME, 'css-1n5vdld-product-thumbnail__image').get_attribute('src')\n",
    "    \n",
    "    print(url_imagem)\n",
    "    url_produto = produto.find_element(\n",
    "        By.TAG_NAME, 'a').get_attribute('href')\n",
    "    print(url_produto)\n",
    "    navegador.execute_script(f'window.scroll(0, {chave + 1} * 100)')\n",
    "    print('========================================================================')"
   ]
  },
  {
   "cell_type": "markdown",
   "metadata": {},
   "source": [
    "# páginação"
   ]
  },
  {
   "cell_type": "code",
   "execution_count": null,
   "metadata": {},
   "outputs": [],
   "source": [
    "navegador.find_element(\n",
    "    By.CLASS_NAME, 'glyph-arrow-right').click()"
   ]
  },
  {
   "cell_type": "code",
   "execution_count": 631,
   "metadata": {},
   "outputs": [],
   "source": [
    "navegador.quit()"
   ]
  }
 ],
 "metadata": {
  "kernelspec": {
   "display_name": "venv",
   "language": "python",
   "name": "python3"
  },
  "language_info": {
   "codemirror_mode": {
    "name": "ipython",
    "version": 3
   },
   "file_extension": ".py",
   "mimetype": "text/x-python",
   "name": "python",
   "nbconvert_exporter": "python",
   "pygments_lexer": "ipython3",
   "version": "3.10.14"
  }
 },
 "nbformat": 4,
 "nbformat_minor": 2
}
