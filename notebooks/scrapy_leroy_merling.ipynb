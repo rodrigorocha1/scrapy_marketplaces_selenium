{
 "cells": [
  {
   "cell_type": "code",
   "execution_count": 579,
   "metadata": {},
   "outputs": [],
   "source": [
    "from selenium import webdriver\n",
    "from selenium.webdriver.chrome.service import Service\n",
    "from webdriver_manager.chrome import ChromeDriverManager\n",
    "from selenium.webdriver.common.by import By\n",
    "from selenium.webdriver.support import expected_conditions as EC\n",
    "from selenium.webdriver.support.ui import WebDriverWait\n",
    "from time import sleep\n"
   ]
  },
  {
   "cell_type": "code",
   "execution_count": 580,
   "metadata": {},
   "outputs": [],
   "source": [
    "servico = Service(ChromeDriverManager().install())\n",
    "navegador = webdriver.Chrome(service=servico)\n",
    "navegador.maximize_window()"
   ]
  },
  {
   "cell_type": "code",
   "execution_count": 581,
   "metadata": {},
   "outputs": [],
   "source": [
    "navegador.get('https://www.leroymerlin.com.br/')"
   ]
  },
  {
   "cell_type": "code",
   "execution_count": 582,
   "metadata": {},
   "outputs": [],
   "source": [
    "busca_produto = navegador.find_element(\n",
    "    By.ID, '@autocomplete-quicksearch-input')\n",
    "\n",
    "busca_produto.send_keys('Churrasqueira')"
   ]
  },
  {
   "cell_type": "code",
   "execution_count": 583,
   "metadata": {},
   "outputs": [],
   "source": [
    "navegador.find_element(\n",
    "    By.XPATH, '/html/body/header/div[2]/div/div[1]/form/div/div[1]/div/div/button').click()"
   ]
  },
  {
   "cell_type": "code",
   "execution_count": 584,
   "metadata": {},
   "outputs": [
    {
     "data": {
      "text/plain": [
       "<selenium.webdriver.remote.webelement.WebElement (session=\"e8248e0e7135899b15e4a8aa66147284\", element=\"f.5AA13CD936D3BB22C746EF34F92BD284.d.19F0C9EBBFED8C18E279DF2FCDDEDF6E.e.138\")>"
      ]
     },
     "execution_count": 584,
     "metadata": {},
     "output_type": "execute_result"
    }
   ],
   "source": [
    "WebDriverWait(navegador, 20).until(\n",
    "    EC.presence_of_element_located(\n",
    "        (By.CSS_SELECTOR, \n",
    "        '#mobile-filter-content > div > div > div:nth-child(6) > div.flex-1.px-4.py-4 > div > div:nth-child(1) > div > input')))"
   ]
  },
  {
   "cell_type": "markdown",
   "metadata": {},
   "source": [
    "# Filtro de preço"
   ]
  },
  {
   "cell_type": "markdown",
   "metadata": {},
   "source": [
    "# Colocar alguma espera"
   ]
  },
  {
   "cell_type": "code",
   "execution_count": 585,
   "metadata": {},
   "outputs": [],
   "source": [
    "preco_minimo = navegador.find_element(\n",
    "    By.CSS_SELECTOR, '#mobile-filter-content > div > div > div:nth-child(6) > div.flex-1.px-4.py-4 > div > div:nth-child(1) > div > input')\n",
    "\n",
    "preco_minimo.send_keys(100)"
   ]
  },
  {
   "cell_type": "code",
   "execution_count": 586,
   "metadata": {},
   "outputs": [],
   "source": [
    "preco_maximo = navegador.find_element(\n",
    "    By.XPATH, '//*[@id=\"mobile-filter-content\"]/div/div/div[6]/div[2]/div/div[2]/div/input'\n",
    ")\n",
    "preco_maximo.send_keys(150)"
   ]
  },
  {
   "cell_type": "code",
   "execution_count": 587,
   "metadata": {},
   "outputs": [],
   "source": [
    "navegador.find_element(\n",
    "    By.XPATH, '//*[@id=\"mobile-filter-content\"]/div/div/div[6]/div[2]/div/button').click()"
   ]
  },
  {
   "cell_type": "markdown",
   "metadata": {},
   "source": [
    "# Lista de produtos"
   ]
  },
  {
   "cell_type": "markdown",
   "metadata": {},
   "source": [
    "- Nome do produto\n",
    "- Nome do fabricante\n",
    "- Preço\n",
    "- Informações extras disponíveis do produto, que podem variar por e-commerce.\n",
    "- Data de coleta\n",
    "- URL do produto\n",
    "- URL da imagem do produto"
   ]
  },
  {
   "cell_type": "code",
   "execution_count": 588,
   "metadata": {},
   "outputs": [
    {
     "data": {
      "text/plain": [
       "<selenium.webdriver.remote.webelement.WebElement (session=\"e8248e0e7135899b15e4a8aa66147284\", element=\"f.5AA13CD936D3BB22C746EF34F92BD284.d.19F0C9EBBFED8C18E279DF2FCDDEDF6E.e.225\")>"
      ]
     },
     "execution_count": 588,
     "metadata": {},
     "output_type": "execute_result"
    }
   ],
   "source": [
    "WebDriverWait(navegador, 15).until(\n",
    "    EC.presence_of_element_located(\n",
    "        (By.CLASS_NAME,\n",
    "         'new-product-thumb')))"
   ]
  },
  {
   "cell_type": "code",
   "execution_count": 589,
   "metadata": {},
   "outputs": [],
   "source": [
    "lista_produtos = navegador.find_elements(By.CLASS_NAME,  'new-product-thumb')"
   ]
  },
  {
   "cell_type": "code",
   "execution_count": 590,
   "metadata": {},
   "outputs": [
    {
     "data": {
      "text/plain": [
       "(36, list)"
      ]
     },
     "execution_count": 590,
     "metadata": {},
     "output_type": "execute_result"
    }
   ],
   "source": [
    "len(lista_produtos), type(lista_produtos)\n"
   ]
  },
  {
   "cell_type": "markdown",
   "metadata": {},
   "source": [
    "- Esperar até a url de imagem carregar"
   ]
  },
  {
   "cell_type": "code",
   "execution_count": 595,
   "metadata": {},
   "outputs": [
    {
     "name": "stdout",
     "output_type": "stream",
     "text": [
      "Churrasqueira a Carvão 74x40cm Garden Importado\n",
      "89975522\n",
      "https://cdn.leroymerlin.com.br/products/churrasqueira_fixa_garden_carvao_89975522_0001_300x300.jpg\n",
      "https://www.leroymerlin.com.br/churrasqueira-a-carvao-74x40cm-garden-importado_89975522\n",
      "========================================================================\n",
      "Churrasqueira De Inox Portátil A Carvão - Leve E Resistente\n",
      "1568282611\n",
      "https://cdn.leroymerlin.com.br/products/churrasqueira_de_inox_portatil_a_carvao_leve_e_resistente_1568282611_fa11_300x300.jpg\n",
      "https://www.leroymerlin.com.br/churrasqueira-de-inox-portatil-a-carvao-leve-e-resistente_1568282611\n",
      "========================================================================\n",
      "Churrasqueira À Carvão Zincada 20 Litros Com Grelha - Volpato\n",
      "1568442781\n",
      "https://cdn.leroymerlin.com.br/products/churrasqueira_a_carvao_zincada_20_litros_com_grelha_volpato_1568442781_c243_300x300.jpg\n",
      "https://www.leroymerlin.com.br/churrasqueira-a-carvao-zincada-20-litros-com-grelha-volpato_1568442781\n",
      "========================================================================\n",
      "Churrasqueira Carvão P/ Apartamento Bafo Pzf10\n",
      "1570832791\n",
      "https://cdn.leroymerlin.com.br/products/churrasqueira_carvao_p__apartamento_bafo_pzf10_1570832791_aa77_300x300.jpg\n",
      "https://www.leroymerlin.com.br/churrasqueira-carvao-p--apartamento-bafo-pzf10_1570832791\n",
      "========================================================================\n",
      "Churrasqueira Elétrica Cadence Short Grill - 127v\n",
      "1567464744\n",
      "https://cdn.leroymerlin.com.br/products/churrasqueira_eletrica_cadence_short_grill_127v_1567464744_b629_300x300.jpg\n",
      "https://www.leroymerlin.com.br/churrasqueira-eletrica-cadence-short-grill-127v_1567464744\n",
      "========================================================================\n",
      "Churrasqueira Britânia Gourmet Bcg1 1200w 127v\n",
      "1566773939\n",
      "https://cdn.leroymerlin.com.br/products/churrasqueira__britania_gourmet_bcg1_1200w_127v_1566773939_2718_300x300.jpg\n",
      "https://www.leroymerlin.com.br/churrasqueira--britania-gourmet-bcg1-1200w-127v_1566773939\n",
      "========================================================================\n",
      "Churrasqueira Elétrica Mondial Pratc Steak E Grill Ch-07\n",
      "1571653290\n",
      "https://cdn.leroymerlin.com.br/products/churrasqueira_eletrica_mondial_pratc_steak_e_grill_ch_07_1571653290_a0e7_300x300.jpg\n",
      "https://www.leroymerlin.com.br/churrasqueira-eletrica-mondial-pratc-steak-e-grill-ch-07_1571653290\n",
      "========================================================================\n",
      "Churrasqueira À Carvão Baú Latão 40x26x35cm - Volpato\n",
      "1570956633\n",
      "https://cdn.leroymerlin.com.br/products/churrasqueira_a_carvao_bau_latao_40x26x35cm_volpato_1570956633_3746_300x300.jpg\n",
      "https://www.leroymerlin.com.br/churrasqueira-a-carvao-bau-latao-40x26x35cm-volpato_1570956633\n",
      "========================================================================\n",
      "Churrasqueira Praia Campo Com Pé Aço 2 Espeto Ab 75x30x28cm\n",
      "1570905700\n",
      "https://cdn.leroymerlin.com.br/products/churrasqueira_praia_campo_com_pe_aco_2_espeto_ab_75x30x28cm_1570905700_2ace_300x300.jpg\n",
      "https://www.leroymerlin.com.br/churrasqueira-praia-campo-com-pe-aco-2-espeto-ab-75x30x28cm_1570905700\n",
      "========================================================================\n",
      "Churrasqueira Elétrica Tok Grill Light Il 127 Volts Prateada\n",
      "1571800491\n",
      "https://cdn.leroymerlin.com.br/products/churrasqueira_eletrica_tok_grill_light_il_127_volts_prateada_1571800491_98eb_300x300.png\n",
      "https://www.leroymerlin.com.br/churrasqueira-eletrica-tok-grill-light-il-127-volts-prateada_1571800491\n",
      "========================================================================\n",
      "Churrasqueira De Inox Dobrável - Apto Pesca Camping Praia\n",
      "1568282605\n",
      "https://cdn.leroymerlin.com.br/products/churrasqueira_de_inox_dobravel_apto_pesca_camping_praia_1568282605_dcfb_300x300.jpg\n",
      "https://www.leroymerlin.com.br/churrasqueira-de-inox-dobravel-apto-pesca-camping-praia_1568282605\n",
      "========================================================================\n",
      "Churrasqueira Elétrica Elgin 2000w Preta – 220 Volts\n",
      "1567830775\n",
      "https://cdn.leroymerlin.com.br/products/churrasqueira_eletrica_elgin_2000w_preta___220_volts_1567830775_5d8a_300x300.png\n",
      "https://www.leroymerlin.com.br/churrasqueira-eletrica-elgin-2000w-preta---220-volts_1567830775\n",
      "========================================================================\n",
      "Churrasqueira Bafo A Carvão Portátil Com Grelha Pzf7\n",
      "1570832788\n",
      "https://cdn.leroymerlin.com.br/products/churrasqueira_bafo_a_carvao_portatil_com_grelha_pzf7_1570832788_ecc8_300x300.jpg\n",
      "https://www.leroymerlin.com.br/churrasqueira-bafo-a-carvao-portatil-com-grelha-pzf7_1570832788\n",
      "========================================================================\n",
      "Churrasqueira Espetinho À Carvão Zincada - Volpato\n",
      "1569706273\n",
      "https://cdn.leroymerlin.com.br/products/churrasqueira_espetinho_a_carvao_zincada_volpato_1569706273_bfff_300x300.jpg\n",
      "https://www.leroymerlin.com.br/churrasqueira-espetinho-a-carvao-zincada-volpato_1569706273\n",
      "========================================================================\n",
      "Churrasqueira Elétrica Tok Grill Light Il 220 Volts Prateada\n",
      "1571809578\n",
      "https://cdn.leroymerlin.com.br/products/churrasqueira_eletrica_tok_grill_light_il_220_volts_prateada_1571809578_b489_300x300.png\n",
      "https://www.leroymerlin.com.br/churrasqueira-eletrica-tok-grill-light-il-220-volts-prateada_1571809578\n",
      "========================================================================\n",
      "Churrasqueira Elétrica Ch2-01 Termostato Agratto\n",
      "1567044241\n",
      "https://cdn.leroymerlin.com.br/products/churrasqueira_eletrica_ch2_01_termostato_agratto_1567044241_a94c_300x300.jpg\n",
      "https://www.leroymerlin.com.br/churrasqueira-eletrica-ch2-01-termostato-agratto_1567044241\n",
      "========================================================================\n",
      "Churrasqueira Elétrica Portátil Com Grelha Super Prática 127 Volts\n",
      "1570922904\n",
      "https://cdn.leroymerlin.com.br/products/churrasqueira_eletrica_portatil_com_grelha_super_pratica_127_1570922904_8520_300x300.png\n",
      "https://www.leroymerlin.com.br/churrasqueira-eletrica-portatil-com-grelha-super-pratica-127-volts_1570922904\n",
      "========================================================================\n",
      "Churrasqueira Britânia Gourmet Bcg1 1200w 220v\n",
      "1566773954\n",
      "https://cdn.leroymerlin.com.br/products/churrasqueira__britania_gourmet_bcg1_1200w_220v_1566773954_d0b4_300x300.jpg\n",
      "https://www.leroymerlin.com.br/churrasqueira--britania-gourmet-bcg1-1200w-220v_1566773954\n",
      "========================================================================\n",
      "Churrasqueira Portátil Zincada A Bafo Pesca E Camping Pzf1\n",
      "1570751265\n",
      "https://cdn.leroymerlin.com.br/products/churrasqueira_portatil_zincada_a_bafo_pesca_e_camping_pzf1_1570751265_f9f7_300x300.jpg\n",
      "https://www.leroymerlin.com.br/churrasqueira-portatil-zincada-a-bafo-pesca-e-camping-pzf1_1570751265\n",
      "========================================================================\n",
      "Churrasqueira Mini Bafinho Aço Carbono E Grelha 30x29x23cm\n",
      "1570905692\n",
      "https://cdn.leroymerlin.com.br/products/churrasqueira_mini_bafinho_aco_carbono_e_grelha_30x29x23cm_1570905692_743f_300x300.jpg\n",
      "https://www.leroymerlin.com.br/churrasqueira-mini-bafinho-aco-carbono-e-grelha-30x29x23cm_1570905692\n",
      "========================================================================\n",
      "Churrasqueira Cariocão Aço Galvanizado Grelha Moeda Com Alças Madeira - Gudim\n",
      "1571971846\n",
      "https://cdn.leroymerlin.com.br/products/churrasqueira_cariocao_aco_galvanizado_grelha_moeda_com_alcas_1571971846_e9f8_300x300.png\n",
      "https://www.leroymerlin.com.br/churrasqueira-cariocao-aco-galvanizado-grelha-moeda-com-alcas-madeira-gudim_1571971846\n",
      "========================================================================\n",
      "Churrasqueira Portatil Maleta Desmontavel A Carvão\n",
      "1566761552\n",
      "https://cdn.leroymerlin.com.br/products/churrasqueira_portatil_maleta_desmontavel_a_carvao_1566761552_7050_300x300.jpg\n",
      "https://www.leroymerlin.com.br/churrasqueira-portatil-maleta-desmontavel-a-carvao_1566761552\n",
      "========================================================================\n",
      "Churrasqueira Móvel Portátil Zincada A Bafo Pzf2\n",
      "1570832792\n",
      "https://cdn.leroymerlin.com.br/products/churrasqueira_movel_portatil_zincada_a_bafo_pzf2_1570832792_c66d_300x300.jpg\n",
      "https://www.leroymerlin.com.br/churrasqueira-movel-portatil-zincada-a-bafo-pzf2_1570832792\n",
      "========================================================================\n",
      "Churrasqueira Fogareiro A Álcool Chapa Ferro Multi P/ Mesa\n",
      "1571602004\n",
      "https://cdn.leroymerlin.com.br/products/churrasqueira_fogareiro_a_alcool_chapa_ferro_multi_p__mesa_1571602004_e541_300x300.jpg\n",
      "https://www.leroymerlin.com.br/churrasqueira-fogareiro-a-alcool-chapa-ferro-multi-p--mesa_1571602004\n",
      "========================================================================\n",
      "Churrasqueira A Bafo Pequena Portatil Carvão Com Grelha\n",
      "1571981173\n",
      "https://cdn.leroymerlin.com.br/products/churrasqueira_a_bafo_pequena_portatil_carvao_com_grelha_1571981173_2b1f_300x300.png\n",
      "https://www.leroymerlin.com.br/churrasqueira-a-bafo-pequena-portatil-carvao-com-grelha_1571981173\n",
      "========================================================================\n",
      "Churrasqueira Elétrica Fulkan 127v\n",
      "1571172090\n",
      "https://cdn.leroymerlin.com.br/products/churrasqueira_eletrica_fulkan_127v_1571172090_f4b0_300x300.jpg\n",
      "https://www.leroymerlin.com.br/churrasqueira-eletrica-fulkan-127v_1571172090\n",
      "========================================================================\n",
      "Churrasqueira Portátil Pinhal\n",
      "1570890380\n",
      "https://cdn.leroymerlin.com.br/products/churrasqueira_portatil_pinhal_1570890380_2ee8_300x300.png\n",
      "https://www.leroymerlin.com.br/churrasqueira-portatil-pinhal_1570890380\n",
      "========================================================================\n",
      "Churrasqueira Elétrica Multi 127v Com Controle De Temperatura Inox 1800w Preto - Go131\n",
      "1571804973\n",
      "https://cdn.leroymerlin.com.br/products/churrasqueira_eletrica_multi_127v_com_controle_de_temperatura_1571804973_a177_300x300.jpg\n",
      "https://www.leroymerlin.com.br/churrasqueira-eletrica-multi-127v-com-controle-de-temperatura-inox-1800w-preto-go131_1571804973\n",
      "========================================================================\n",
      "Churrasqueira Elétrica Fulkan 220v\n",
      "1572068886\n",
      "https://cdn.leroymerlin.com.br/products/churrasqueira_eletrica_fulkan_220v_1572068886_7bc8_300x300.jpg\n",
      "https://www.leroymerlin.com.br/churrasqueira-eletrica-fulkan-220v_1572068886\n",
      "========================================================================\n",
      "Churrasqueira À Carvão Baú Zincada 40x26x35cm - Volpato\n",
      "1570956634\n",
      "https://cdn.leroymerlin.com.br/products/churrasqueira_a_carvao_bau_zincada_40x26x35cm_volpato_1570956634_b6a5_300x300.jpg\n",
      "https://www.leroymerlin.com.br/churrasqueira-a-carvao-bau-zincada-40x26x35cm-volpato_1570956634\n",
      "========================================================================\n",
      "Churrasqueira Pequena Portátil A Carvão Camping Pesca Praia Pzf0\n",
      "1570832784\n",
      "https://cdn.leroymerlin.com.br/products/churrasqueira_pequena_portatil_a_carvao_camping_pesca_praia_p_1570832784_78f1_300x300.jpg\n",
      "https://www.leroymerlin.com.br/churrasqueira-pequena-portatil-a-carvao-camping-pesca-praia-pzf0_1570832784\n",
      "========================================================================\n",
      "Churrasqueira Prática Chapa De Aço Carbono 50x29cm\n",
      "1567719421\n",
      "https://cdn.leroymerlin.com.br/products/churrasqueira_pratica_chapa_de_aco_carbono_50x29cm_1567719421_657e_300x300.jpg\n",
      "https://www.leroymerlin.com.br/churrasqueira-pratica-chapa-de-aco-carbono-50x29cm_1567719421\n",
      "========================================================================\n",
      "Churrasqueira Bafo A Carvão Portátil Com Grelha Pzf6\n",
      "1570905660\n",
      "https://cdn.leroymerlin.com.br/products/churrasqueira_bafo_a_carvao_portatil_com_grelha_pzf6_1570905660_7281_300x300.jpg\n",
      "https://www.leroymerlin.com.br/churrasqueira-bafo-a-carvao-portatil-com-grelha-pzf6_1570905660\n",
      "========================================================================\n",
      "Churrasqueira Prática Chapa De Aço Carbono 40x29cm\n",
      "1567719468\n",
      "https://cdn.leroymerlin.com.br/products/churrasqueira_pratica_chapa_de_aco_carbono_40x29cm_1567719468_8082_300x300.jpg\n",
      "https://www.leroymerlin.com.br/churrasqueira-pratica-chapa-de-aco-carbono-40x29cm_1567719468\n",
      "========================================================================\n",
      "Churrasqueira Eletrica Metalrio Super Grill 220v\n",
      "1567614068\n",
      "https://cdn.leroymerlin.com.br/products/churrasqueira_eletrica_metalrio_super_grill_220v_1567614068_8180_300x300.png\n",
      "https://www.leroymerlin.com.br/churrasqueira-eletrica-metalrio-super-grill-220v_1567614068\n",
      "========================================================================\n",
      "Churrasqueira De Fogão Multi Uso Diet Assa No Vapor 2mm\n",
      "1567719398\n",
      "https://cdn.leroymerlin.com.br/products/churrasqueira_de_fogao_multi_uso_diet_assa_no_vapor_2mm_1567719398_fd83_300x300.jpg\n",
      "https://www.leroymerlin.com.br/churrasqueira-de-fogao-multi-uso-diet-assa-no-vapor-2mm_1567719398\n",
      "========================================================================\n"
     ]
    }
   ],
   "source": [
    "\n",
    "for chave, produto in enumerate(lista_produtos):\n",
    "    nome = produto.find_element(By.CLASS_NAME, 'css-1eaoahv-ellipsis').text\n",
    "    print(nome)\n",
    "    codigo = produto.find_element(\n",
    "        By.CLASS_NAME, 'css-19qfvzb-new-product-thumb__product-code').text\n",
    "    preco = produto.find_element(By.CLASS_NAME, 'css-m39r81-price-tag__price').text\n",
    "    print(codigo.replace('Cód. ', ''))\n",
    "    url_imagem = produto.find_element(\n",
    "        By.CLASS_NAME, 'css-1n5vdld-product-thumbnail__image').get_attribute('src')\n",
    "    \n",
    "    print(url_imagem)\n",
    "    url_produto = produto.find_element(\n",
    "        By.TAG_NAME, 'a').get_attribute('href')\n",
    "    print(url_produto)\n",
    "    navegador.execute_script(f'window.scroll(0, {chave * 80})')\n",
    "    print('========================================================================')"
   ]
  },
  {
   "cell_type": "markdown",
   "metadata": {},
   "source": [
    "# páginação"
   ]
  },
  {
   "cell_type": "code",
   "execution_count": null,
   "metadata": {},
   "outputs": [],
   "source": [
    "navegador.find_element(\n",
    "    By.CLASS_NAME, 'glyph-arrow-right').click()"
   ]
  },
  {
   "cell_type": "code",
   "execution_count": 495,
   "metadata": {},
   "outputs": [],
   "source": [
    "navegador.quit()"
   ]
  }
 ],
 "metadata": {
  "kernelspec": {
   "display_name": "venv",
   "language": "python",
   "name": "python3"
  },
  "language_info": {
   "codemirror_mode": {
    "name": "ipython",
    "version": 3
   },
   "file_extension": ".py",
   "mimetype": "text/x-python",
   "name": "python",
   "nbconvert_exporter": "python",
   "pygments_lexer": "ipython3",
   "version": "3.10.14"
  }
 },
 "nbformat": 4,
 "nbformat_minor": 2
}
