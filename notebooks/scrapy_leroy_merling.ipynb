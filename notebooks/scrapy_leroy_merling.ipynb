{
 "cells": [
  {
   "cell_type": "code",
   "execution_count": 698,
   "metadata": {},
   "outputs": [],
   "source": [
    "from selenium import webdriver\n",
    "from selenium.webdriver.chrome.service import Service\n",
    "from webdriver_manager.chrome import ChromeDriverManager\n",
    "from selenium.webdriver.common.by import By\n",
    "from selenium.webdriver.support import expected_conditions as EC\n",
    "from selenium.webdriver.support.ui import WebDriverWait\n",
    "from time import sleep\n",
    "from datetime import datetime\n"
   ]
  },
  {
   "cell_type": "code",
   "execution_count": 699,
   "metadata": {},
   "outputs": [],
   "source": [
    "servico = Service(ChromeDriverManager().install())\n",
    "navegador = webdriver.Chrome(service=servico)\n",
    "navegador.maximize_window()"
   ]
  },
  {
   "cell_type": "code",
   "execution_count": 700,
   "metadata": {},
   "outputs": [],
   "source": [
    "navegador.get('https://www.leroymerlin.com.br/')"
   ]
  },
  {
   "cell_type": "code",
   "execution_count": 688,
   "metadata": {},
   "outputs": [],
   "source": [
    "busca_produto = navegador.find_element(\n",
    "    By.ID, '@autocomplete-quicksearch-input')\n",
    "\n",
    "busca_produto.send_keys('Churrasqueira')"
   ]
  },
  {
   "cell_type": "code",
   "execution_count": 689,
   "metadata": {},
   "outputs": [],
   "source": [
    "navegador.find_element(\n",
    "    By.XPATH, '/html/body/header/div[2]/div/div[1]/form/div/div[1]/div/div/button').click()"
   ]
  },
  {
   "cell_type": "code",
   "execution_count": 690,
   "metadata": {},
   "outputs": [
    {
     "data": {
      "text/plain": [
       "<selenium.webdriver.remote.webelement.WebElement (session=\"14390690d198e7d6737cee0719b120a9\", element=\"f.FDF41C5B0D3B1B11CF142B0682311506.d.93D8D67B30446B3957D3DA7F486EC4F2.e.115\")>"
      ]
     },
     "execution_count": 690,
     "metadata": {},
     "output_type": "execute_result"
    }
   ],
   "source": [
    "WebDriverWait(navegador, 20).until(\n",
    "    EC.presence_of_element_located(\n",
    "        (By.CSS_SELECTOR, \n",
    "        '#mobile-filter-content > div > div > div:nth-child(6) > div.flex-1.px-4.py-4 > div > div:nth-child(1) > div > input')))"
   ]
  },
  {
   "cell_type": "markdown",
   "metadata": {},
   "source": [
    "# Filtro de preço"
   ]
  },
  {
   "cell_type": "markdown",
   "metadata": {},
   "source": [
    "# Colocar alguma espera"
   ]
  },
  {
   "cell_type": "code",
   "execution_count": 691,
   "metadata": {},
   "outputs": [],
   "source": [
    "preco_minimo = navegador.find_element(\n",
    "    By.CSS_SELECTOR, '#mobile-filter-content > div > div > div:nth-child(6) > div.flex-1.px-4.py-4 > div > div:nth-child(1) > div > input')\n",
    "\n",
    "preco_minimo.send_keys(100)"
   ]
  },
  {
   "cell_type": "code",
   "execution_count": 692,
   "metadata": {},
   "outputs": [],
   "source": [
    "preco_maximo = navegador.find_element(\n",
    "    By.XPATH, '//*[@id=\"mobile-filter-content\"]/div/div/div[6]/div[2]/div/div[2]/div/input'\n",
    ")\n",
    "preco_maximo.send_keys(150)"
   ]
  },
  {
   "cell_type": "code",
   "execution_count": 693,
   "metadata": {},
   "outputs": [],
   "source": [
    "navegador.find_element(\n",
    "    By.XPATH, '//*[@id=\"mobile-filter-content\"]/div/div/div[6]/div[2]/div/button').click()"
   ]
  },
  {
   "cell_type": "markdown",
   "metadata": {},
   "source": [
    "# Lista de produtos"
   ]
  },
  {
   "cell_type": "markdown",
   "metadata": {},
   "source": [
    "- Nome do produto\n",
    "- Nome do fabricante\n",
    "- Preço\n",
    "- Informações extras disponíveis do produto, que podem variar por e-commerce.\n",
    "- Data de coleta\n",
    "- URL do produto\n",
    "- URL da imagem do produto"
   ]
  },
  {
   "cell_type": "code",
   "execution_count": 694,
   "metadata": {},
   "outputs": [
    {
     "data": {
      "text/plain": [
       "<selenium.webdriver.remote.webelement.WebElement (session=\"14390690d198e7d6737cee0719b120a9\", element=\"f.FDF41C5B0D3B1B11CF142B0682311506.d.93D8D67B30446B3957D3DA7F486EC4F2.e.173\")>"
      ]
     },
     "execution_count": 694,
     "metadata": {},
     "output_type": "execute_result"
    }
   ],
   "source": [
    "WebDriverWait(navegador, 15).until(\n",
    "    EC.presence_of_element_located(\n",
    "        (By.CLASS_NAME,\n",
    "         'new-product-thumb')))"
   ]
  },
  {
   "cell_type": "code",
   "execution_count": 695,
   "metadata": {},
   "outputs": [],
   "source": [
    "lista_produtos = navegador.find_elements(By.CLASS_NAME,  'new-product-thumb')"
   ]
  },
  {
   "cell_type": "code",
   "execution_count": 696,
   "metadata": {},
   "outputs": [
    {
     "data": {
      "text/plain": [
       "(36, list)"
      ]
     },
     "execution_count": 696,
     "metadata": {},
     "output_type": "execute_result"
    }
   ],
   "source": [
    "len(lista_produtos), type(lista_produtos)\n"
   ]
  },
  {
   "cell_type": "markdown",
   "metadata": {},
   "source": [
    "- Esperar até a url de imagem carregar"
   ]
  },
  {
   "cell_type": "code",
   "execution_count": 697,
   "metadata": {},
   "outputs": [
    {
     "name": "stdout",
     "output_type": "stream",
     "text": [
      "Churrasqueira a Carvão 74x40cm Garden Importado\n",
      "R$ 119,00\n",
      "89975522\n",
      "https://cdn.leroymerlin.com.br/products/churrasqueira_fixa_garden_carvao_89975522_0001_300x300.jpg\n",
      "https://www.leroymerlin.com.br/churrasqueira-a-carvao-74x40cm-garden-importado_89975522\n",
      "========================================================================\n",
      "Churrasqueira De Inox Portátil A Carvão - Leve E Resistente\n",
      "R$ 128,90\n",
      "1568282611\n",
      "https://cdn.leroymerlin.com.br/products/churrasqueira_de_inox_portatil_a_carvao_leve_e_resistente_1568282611_fa11_300x300.jpg\n",
      "https://www.leroymerlin.com.br/churrasqueira-de-inox-portatil-a-carvao-leve-e-resistente_1568282611\n",
      "========================================================================\n",
      "Churrasqueira À Carvão Zincada 20 Litros Com Grelha - Volpato\n",
      "R$ 130,54\n",
      "1568442781\n",
      "https://cdn.leroymerlin.com.br/products/churrasqueira_a_carvao_zincada_20_litros_com_grelha_volpato_1568442781_c243_300x300.jpg\n",
      "https://www.leroymerlin.com.br/churrasqueira-a-carvao-zincada-20-litros-com-grelha-volpato_1568442781\n",
      "========================================================================\n",
      "Churrasqueira Carvão P/ Apartamento Bafo Pzf10\n",
      "R$ 109,22\n",
      "1570832791\n",
      "https://cdn.leroymerlin.com.br/products/churrasqueira_carvao_p__apartamento_bafo_pzf10_1570832791_aa77_300x300.jpg\n",
      "https://www.leroymerlin.com.br/churrasqueira-carvao-p--apartamento-bafo-pzf10_1570832791\n",
      "========================================================================\n",
      "Churrasqueira Elétrica Cadence Short Grill - 127v\n",
      "R$ 103,50\n",
      "1567464744\n",
      "https://cdn.leroymerlin.com.br/products/churrasqueira_eletrica_cadence_short_grill_127v_1567464744_b629_300x300.jpg\n",
      "https://www.leroymerlin.com.br/churrasqueira-eletrica-cadence-short-grill-127v_1567464744\n",
      "========================================================================\n",
      "Churrasqueira Britânia Gourmet Bcg1 1200w 127v\n",
      "R$ 144,90\n",
      "1566773939\n",
      "https://cdn.leroymerlin.com.br/products/churrasqueira__britania_gourmet_bcg1_1200w_127v_1566773939_2718_300x300.jpg\n",
      "https://www.leroymerlin.com.br/churrasqueira--britania-gourmet-bcg1-1200w-127v_1566773939\n",
      "========================================================================\n",
      "Churrasqueira Elétrica Mondial Pratc Steak E Grill Ch-07\n",
      "R$ 138,52\n",
      "1571653290\n",
      "https://cdn.leroymerlin.com.br/products/churrasqueira_eletrica_mondial_pratc_steak_e_grill_ch_07_1571653290_a0e7_300x300.jpg\n",
      "https://www.leroymerlin.com.br/churrasqueira-eletrica-mondial-pratc-steak-e-grill-ch-07_1571653290\n",
      "========================================================================\n",
      "Churrasqueira À Carvão Baú Latão 40x26x35cm - Volpato\n",
      "R$ 136,86\n",
      "1570956633\n",
      "https://cdn.leroymerlin.com.br/products/churrasqueira_a_carvao_bau_latao_40x26x35cm_volpato_1570956633_3746_300x300.jpg\n",
      "https://www.leroymerlin.com.br/churrasqueira-a-carvao-bau-latao-40x26x35cm-volpato_1570956633\n",
      "========================================================================\n",
      "Churrasqueira Praia Campo Com Pé Aço 2 Espeto Ab 75x30x28cm\n",
      "R$ 142,77\n",
      "1570905700\n",
      "https://cdn.leroymerlin.com.br/products/churrasqueira_praia_campo_com_pe_aco_2_espeto_ab_75x30x28cm_1570905700_2ace_300x300.jpg\n",
      "https://www.leroymerlin.com.br/churrasqueira-praia-campo-com-pe-aco-2-espeto-ab-75x30x28cm_1570905700\n",
      "========================================================================\n",
      "Churrasqueira Elétrica Tok Grill Light Il 127 Volts Prateada\n",
      "R$ 129,90\n",
      "1571800491\n",
      "https://cdn.leroymerlin.com.br/products/churrasqueira_eletrica_tok_grill_light_il_127_volts_prateada_1571800491_98eb_300x300.png\n",
      "https://www.leroymerlin.com.br/churrasqueira-eletrica-tok-grill-light-il-127-volts-prateada_1571800491\n",
      "========================================================================\n",
      "Churrasqueira De Inox Dobrável - Apto Pesca Camping Praia\n",
      "R$ 132,50\n",
      "1568282605\n",
      "https://cdn.leroymerlin.com.br/products/churrasqueira_de_inox_dobravel_apto_pesca_camping_praia_1568282605_dcfb_300x300.jpg\n",
      "https://www.leroymerlin.com.br/churrasqueira-de-inox-dobravel-apto-pesca-camping-praia_1568282605\n",
      "========================================================================\n",
      "Churrasqueira Elétrica Elgin 2000w Preta – 220 Volts\n",
      "R$ 124,20\n",
      "1567830775\n",
      "https://cdn.leroymerlin.com.br/products/churrasqueira_eletrica_elgin_2000w_preta___220_volts_1567830775_5d8a_300x300.png\n",
      "https://www.leroymerlin.com.br/churrasqueira-eletrica-elgin-2000w-preta---220-volts_1567830775\n",
      "========================================================================\n",
      "Churrasqueira Bafo A Carvão Portátil Com Grelha Pzf7\n",
      "R$ 109,60\n",
      "1570832788\n"
     ]
    },
    {
     "ename": "NoSuchElementException",
     "evalue": "Message: no such element: Unable to locate element: {\"method\":\"css selector\",\"selector\":\".css-1n5vdld-product-thumbnail__image\"}\n  (Session info: chrome=127.0.6533.99); For documentation on this error, please visit: https://www.selenium.dev/documentation/webdriver/troubleshooting/errors#no-such-element-exception\nStacktrace:\n#0 0x64bec80c06aa <unknown>\n#1 0x64bec7d91600 <unknown>\n#2 0x64bec7de0bcb <unknown>\n#3 0x64bec7de0eb1 <unknown>\n#4 0x64bec7dd56a6 <unknown>\n#5 0x64bec7e038cd <unknown>\n#6 0x64bec7dd5599 <unknown>\n#7 0x64bec7e03a6e <unknown>\n#8 0x64bec7e2204a <unknown>\n#9 0x64bec7e03643 <unknown>\n#10 0x64bec7dd3d31 <unknown>\n#11 0x64bec7dd479e <unknown>\n#12 0x64bec808823b <unknown>\n#13 0x64bec808c1d2 <unknown>\n#14 0x64bec80755f5 <unknown>\n#15 0x64bec808cd62 <unknown>\n#16 0x64bec805a23f <unknown>\n#17 0x64bec80afe48 <unknown>\n#18 0x64bec80b0020 <unknown>\n#19 0x64bec80bf47c <unknown>\n#20 0x7c652829ca94 <unknown>\n#21 0x7c6528329c3c <unknown>\n",
     "output_type": "error",
     "traceback": [
      "\u001b[0;31m---------------------------------------------------------------------------\u001b[0m",
      "\u001b[0;31mNoSuchElementException\u001b[0m                    Traceback (most recent call last)",
      "Cell \u001b[0;32mIn[697], line 9\u001b[0m\n\u001b[1;32m      7\u001b[0m \u001b[38;5;28mprint\u001b[39m(preco)\n\u001b[1;32m      8\u001b[0m \u001b[38;5;28mprint\u001b[39m(codigo\u001b[38;5;241m.\u001b[39mreplace(\u001b[38;5;124m'\u001b[39m\u001b[38;5;124mCód. \u001b[39m\u001b[38;5;124m'\u001b[39m, \u001b[38;5;124m'\u001b[39m\u001b[38;5;124m'\u001b[39m))\n\u001b[0;32m----> 9\u001b[0m url_imagem \u001b[38;5;241m=\u001b[39m \u001b[43mproduto\u001b[49m\u001b[38;5;241;43m.\u001b[39;49m\u001b[43mfind_element\u001b[49m\u001b[43m(\u001b[49m\n\u001b[1;32m     10\u001b[0m \u001b[43m    \u001b[49m\u001b[43mBy\u001b[49m\u001b[38;5;241;43m.\u001b[39;49m\u001b[43mCLASS_NAME\u001b[49m\u001b[43m,\u001b[49m\u001b[43m \u001b[49m\u001b[38;5;124;43m'\u001b[39;49m\u001b[38;5;124;43mcss-1n5vdld-product-thumbnail__image\u001b[39;49m\u001b[38;5;124;43m'\u001b[39;49m\u001b[43m)\u001b[49m\u001b[38;5;241m.\u001b[39mget_attribute(\u001b[38;5;124m'\u001b[39m\u001b[38;5;124msrc\u001b[39m\u001b[38;5;124m'\u001b[39m)\n\u001b[1;32m     12\u001b[0m \u001b[38;5;28mprint\u001b[39m(url_imagem)\n\u001b[1;32m     13\u001b[0m url_produto \u001b[38;5;241m=\u001b[39m produto\u001b[38;5;241m.\u001b[39mfind_element(\n\u001b[1;32m     14\u001b[0m     By\u001b[38;5;241m.\u001b[39mTAG_NAME, \u001b[38;5;124m'\u001b[39m\u001b[38;5;124ma\u001b[39m\u001b[38;5;124m'\u001b[39m)\u001b[38;5;241m.\u001b[39mget_attribute(\u001b[38;5;124m'\u001b[39m\u001b[38;5;124mhref\u001b[39m\u001b[38;5;124m'\u001b[39m)\n",
      "File \u001b[0;32m~/Documentos/projetos/scrapy_marketplaces_selenium/venv/lib/python3.10/site-packages/selenium/webdriver/remote/webelement.py:417\u001b[0m, in \u001b[0;36mWebElement.find_element\u001b[0;34m(self, by, value)\u001b[0m\n\u001b[1;32m    414\u001b[0m     by \u001b[38;5;241m=\u001b[39m By\u001b[38;5;241m.\u001b[39mCSS_SELECTOR\n\u001b[1;32m    415\u001b[0m     value \u001b[38;5;241m=\u001b[39m \u001b[38;5;124mf\u001b[39m\u001b[38;5;124m'\u001b[39m\u001b[38;5;124m[name=\u001b[39m\u001b[38;5;124m\"\u001b[39m\u001b[38;5;132;01m{\u001b[39;00mvalue\u001b[38;5;132;01m}\u001b[39;00m\u001b[38;5;124m\"\u001b[39m\u001b[38;5;124m]\u001b[39m\u001b[38;5;124m'\u001b[39m\n\u001b[0;32m--> 417\u001b[0m \u001b[38;5;28;01mreturn\u001b[39;00m \u001b[38;5;28;43mself\u001b[39;49m\u001b[38;5;241;43m.\u001b[39;49m\u001b[43m_execute\u001b[49m\u001b[43m(\u001b[49m\u001b[43mCommand\u001b[49m\u001b[38;5;241;43m.\u001b[39;49m\u001b[43mFIND_CHILD_ELEMENT\u001b[49m\u001b[43m,\u001b[49m\u001b[43m \u001b[49m\u001b[43m{\u001b[49m\u001b[38;5;124;43m\"\u001b[39;49m\u001b[38;5;124;43musing\u001b[39;49m\u001b[38;5;124;43m\"\u001b[39;49m\u001b[43m:\u001b[49m\u001b[43m \u001b[49m\u001b[43mby\u001b[49m\u001b[43m,\u001b[49m\u001b[43m \u001b[49m\u001b[38;5;124;43m\"\u001b[39;49m\u001b[38;5;124;43mvalue\u001b[39;49m\u001b[38;5;124;43m\"\u001b[39;49m\u001b[43m:\u001b[49m\u001b[43m \u001b[49m\u001b[43mvalue\u001b[49m\u001b[43m}\u001b[49m\u001b[43m)\u001b[49m[\u001b[38;5;124m\"\u001b[39m\u001b[38;5;124mvalue\u001b[39m\u001b[38;5;124m\"\u001b[39m]\n",
      "File \u001b[0;32m~/Documentos/projetos/scrapy_marketplaces_selenium/venv/lib/python3.10/site-packages/selenium/webdriver/remote/webelement.py:395\u001b[0m, in \u001b[0;36mWebElement._execute\u001b[0;34m(self, command, params)\u001b[0m\n\u001b[1;32m    393\u001b[0m     params \u001b[38;5;241m=\u001b[39m {}\n\u001b[1;32m    394\u001b[0m params[\u001b[38;5;124m\"\u001b[39m\u001b[38;5;124mid\u001b[39m\u001b[38;5;124m\"\u001b[39m] \u001b[38;5;241m=\u001b[39m \u001b[38;5;28mself\u001b[39m\u001b[38;5;241m.\u001b[39m_id\n\u001b[0;32m--> 395\u001b[0m \u001b[38;5;28;01mreturn\u001b[39;00m \u001b[38;5;28;43mself\u001b[39;49m\u001b[38;5;241;43m.\u001b[39;49m\u001b[43m_parent\u001b[49m\u001b[38;5;241;43m.\u001b[39;49m\u001b[43mexecute\u001b[49m\u001b[43m(\u001b[49m\u001b[43mcommand\u001b[49m\u001b[43m,\u001b[49m\u001b[43m \u001b[49m\u001b[43mparams\u001b[49m\u001b[43m)\u001b[49m\n",
      "File \u001b[0;32m~/Documentos/projetos/scrapy_marketplaces_selenium/venv/lib/python3.10/site-packages/selenium/webdriver/remote/webdriver.py:354\u001b[0m, in \u001b[0;36mWebDriver.execute\u001b[0;34m(self, driver_command, params)\u001b[0m\n\u001b[1;32m    352\u001b[0m response \u001b[38;5;241m=\u001b[39m \u001b[38;5;28mself\u001b[39m\u001b[38;5;241m.\u001b[39mcommand_executor\u001b[38;5;241m.\u001b[39mexecute(driver_command, params)\n\u001b[1;32m    353\u001b[0m \u001b[38;5;28;01mif\u001b[39;00m response:\n\u001b[0;32m--> 354\u001b[0m     \u001b[38;5;28;43mself\u001b[39;49m\u001b[38;5;241;43m.\u001b[39;49m\u001b[43merror_handler\u001b[49m\u001b[38;5;241;43m.\u001b[39;49m\u001b[43mcheck_response\u001b[49m\u001b[43m(\u001b[49m\u001b[43mresponse\u001b[49m\u001b[43m)\u001b[49m\n\u001b[1;32m    355\u001b[0m     response[\u001b[38;5;124m\"\u001b[39m\u001b[38;5;124mvalue\u001b[39m\u001b[38;5;124m\"\u001b[39m] \u001b[38;5;241m=\u001b[39m \u001b[38;5;28mself\u001b[39m\u001b[38;5;241m.\u001b[39m_unwrap_value(response\u001b[38;5;241m.\u001b[39mget(\u001b[38;5;124m\"\u001b[39m\u001b[38;5;124mvalue\u001b[39m\u001b[38;5;124m\"\u001b[39m, \u001b[38;5;28;01mNone\u001b[39;00m))\n\u001b[1;32m    356\u001b[0m     \u001b[38;5;28;01mreturn\u001b[39;00m response\n",
      "File \u001b[0;32m~/Documentos/projetos/scrapy_marketplaces_selenium/venv/lib/python3.10/site-packages/selenium/webdriver/remote/errorhandler.py:229\u001b[0m, in \u001b[0;36mErrorHandler.check_response\u001b[0;34m(self, response)\u001b[0m\n\u001b[1;32m    227\u001b[0m         alert_text \u001b[38;5;241m=\u001b[39m value[\u001b[38;5;124m\"\u001b[39m\u001b[38;5;124malert\u001b[39m\u001b[38;5;124m\"\u001b[39m]\u001b[38;5;241m.\u001b[39mget(\u001b[38;5;124m\"\u001b[39m\u001b[38;5;124mtext\u001b[39m\u001b[38;5;124m\"\u001b[39m)\n\u001b[1;32m    228\u001b[0m     \u001b[38;5;28;01mraise\u001b[39;00m exception_class(message, screen, stacktrace, alert_text)  \u001b[38;5;66;03m# type: ignore[call-arg]  # mypy is not smart enough here\u001b[39;00m\n\u001b[0;32m--> 229\u001b[0m \u001b[38;5;28;01mraise\u001b[39;00m exception_class(message, screen, stacktrace)\n",
      "\u001b[0;31mNoSuchElementException\u001b[0m: Message: no such element: Unable to locate element: {\"method\":\"css selector\",\"selector\":\".css-1n5vdld-product-thumbnail__image\"}\n  (Session info: chrome=127.0.6533.99); For documentation on this error, please visit: https://www.selenium.dev/documentation/webdriver/troubleshooting/errors#no-such-element-exception\nStacktrace:\n#0 0x64bec80c06aa <unknown>\n#1 0x64bec7d91600 <unknown>\n#2 0x64bec7de0bcb <unknown>\n#3 0x64bec7de0eb1 <unknown>\n#4 0x64bec7dd56a6 <unknown>\n#5 0x64bec7e038cd <unknown>\n#6 0x64bec7dd5599 <unknown>\n#7 0x64bec7e03a6e <unknown>\n#8 0x64bec7e2204a <unknown>\n#9 0x64bec7e03643 <unknown>\n#10 0x64bec7dd3d31 <unknown>\n#11 0x64bec7dd479e <unknown>\n#12 0x64bec808823b <unknown>\n#13 0x64bec808c1d2 <unknown>\n#14 0x64bec80755f5 <unknown>\n#15 0x64bec808cd62 <unknown>\n#16 0x64bec805a23f <unknown>\n#17 0x64bec80afe48 <unknown>\n#18 0x64bec80b0020 <unknown>\n#19 0x64bec80bf47c <unknown>\n#20 0x7c652829ca94 <unknown>\n#21 0x7c6528329c3c <unknown>\n"
     ]
    }
   ],
   "source": [
    "\n",
    "for chave, produto in enumerate(lista_produtos):\n",
    "    nome = produto.find_element(By.CLASS_NAME, 'css-1eaoahv-ellipsis').text\n",
    "    print(nome)\n",
    "    codigo = produto.find_element(\n",
    "        By.CLASS_NAME, 'css-19qfvzb-new-product-thumb__product-code').text\n",
    "    preco = produto.find_element(By.CLASS_NAME, 'css-m39r81-price-tag__price').text\n",
    "    print(preco)\n",
    "    print(codigo.replace('Cód. ', ''))\n",
    "    url_imagem = produto.find_element(\n",
    "        By.CLASS_NAME, 'css-1n5vdld-product-thumbnail__image').get_attribute('src')\n",
    "    \n",
    "    print(url_imagem)\n",
    "    url_produto = produto.find_element(\n",
    "        By.TAG_NAME, 'a').get_attribute('href')\n",
    "    print(url_produto)\n",
    "    navegador.execute_script(f'window.scroll(0, {chave * 1})')\n",
    "    print('========================================================================')"
   ]
  },
  {
   "cell_type": "markdown",
   "metadata": {},
   "source": [
    "# páginação"
   ]
  },
  {
   "cell_type": "code",
   "execution_count": 683,
   "metadata": {},
   "outputs": [],
   "source": [
    "navegador.find_element(\n",
    "    By.CLASS_NAME, 'glyph-arrow-right').click()"
   ]
  },
  {
   "cell_type": "code",
   "execution_count": 631,
   "metadata": {},
   "outputs": [],
   "source": [
    "navegador.quit()"
   ]
  }
 ],
 "metadata": {
  "kernelspec": {
   "display_name": "venv",
   "language": "python",
   "name": "python3"
  },
  "language_info": {
   "codemirror_mode": {
    "name": "ipython",
    "version": 3
   },
   "file_extension": ".py",
   "mimetype": "text/x-python",
   "name": "python",
   "nbconvert_exporter": "python",
   "pygments_lexer": "ipython3",
   "version": "3.10.14"
  }
 },
 "nbformat": 4,
 "nbformat_minor": 2
}
